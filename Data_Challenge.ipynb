{
  "cells": [
    {
      "cell_type": "markdown",
      "id": "bd3c2a34",
      "metadata": {
        "deletable": false,
        "editable": false,
        "run_control": {
          "frozen": true
        },
        "id": "bd3c2a34"
      },
      "source": [
        "<center>\n",
        "    <font color=\"#ABACAE\" size=\"50px\">Data</font><font size=\"50px\"> Challenge</font><br><br><br><br>\n",
        "    <font color=\"#005999\" size=\"35px\">Welcoming</font><br>\n",
        "</center>\n",
        "<br><br><br>\n",
        "\n",
        "# I. Challenge Background\n",
        "\n",
        "<br>\n",
        "Since the signing of the Kyoto Protocol in 1997, the reduction of greenhouse gases and in particular CO$_2$ emissions has become a major issue for all private and public actors. This is a key point if we hope to meet the objectives of the 2015 Paris Conference on Global Warming (COP21) to limit global warming between 1.5°C and 2°C.\n",
        "\n",
        "Recently, geopolitical issues have forced us to rethink our energy consumption to reduce our gas and electricity consumption.\n",
        "\n",
        "According to a 2021 study, buildings alone account for 44% of the energy consumed in France, ahead of the transport sector (31.3%). It is therefore crucial to understand which levers can be used to reduce the consumption of buildings and renovate them efficiently.<br>\n",
        "\n",
        "\n",
        "# II. Challenge goals\n",
        "\n",
        "<br>\n",
        "A real estate promotor wishing to predict the energy consumption of its real estate portfolio calls on you. In particular, he wishes to identify the variables that increase energy consumption by using the information in your model.\n",
        "\n",
        "The metric used to assess the ability to correctly predict energy consumption is the following:\n",
        "\n",
        "<br>\n",
        "<center>\n",
        "    $MAPE(y,\\hat{y})=\\frac{1}{n}\\sum_{i=0}^{n-1}\\frac{|y_i - \\hat{y_i}|}{max(\\epsilon,|y_i|)}$\n",
        "</center>\n",
        "\n",
        "Where:\n",
        "<ul>\n",
        "    <li>$\\epsilon$ is an arbitrary small yet strictly positive number to avoid undefined results when y is zero\n",
        "    <li>$y_i$ the real energy consumption\n",
        "    <li>$\\hat{y_i}$ the predicted energy consumption for the ith observation\n",
        "</ul>\n",
        "\n",
        "In this Data Challenge, we will use the MAPE of the scikit-learn library - sklearn.metrics.mean_absolute_percentage_error().<br>\n",
        "\n",
        "\n",
        "# III. Data Description\n",
        "\n",
        "<br>\n",
        "To carry out your task you will have at your disposal 3 sets of data providing various information:\n",
        "<br>\n",
        "<ul>\n",
        "    <li><b>Building</b> (about building meta-data, it has 6 variables):\n",
        "        <ul>\n",
        "            <li> <i>site_id</i> : Foreign key for the weather file (indicates a site location)\n",
        "            <li> <i>building_id</i> : Unique building ID\n",
        "            <li> <i>primary_use</i> : Indicator of the primary category of activities for the building based on EnergyStar property type definitions\n",
        "            <li> <i>square_feet</i> : Gross floor area of the building\n",
        "            <li> <i>year_built</i> : year_built\n",
        "            <li> <i>floor_count</i> : Number of floors of the building\n",
        "        </ul>\n",
        "</ul>\n",
        "<br>\n",
        "<ul>\n",
        "    <li><b>Energy Consumption</b> (about buildings enegy consumption from 01/01/2016 to 12/31/ 2017, it has 4 variables):\n",
        "        <ul>\n",
        "            <li> <i>building_id</i> : Unique building ID\n",
        "            <li> <i>meter</i> : The meter (energy source) ID Code. Read as :\n",
        "                <ul>\n",
        "                    <li> 0: electricity\n",
        "                    <li> 1: chilledwate\n",
        "                    <li> 2: steam\n",
        "                    <li> 3: hotwater\n",
        "                </ul>\n",
        "            <li> <i>timestamp</i> : When the measurement was taken (each hour)\n",
        "            <li> <i>meter_reading</i>: The target variable. Energy consumption in kWh (or equivalent). Not every building has all meter types\n",
        "        </ul>\n",
        "</ul>\n",
        "<br>\n",
        "<ul>\n",
        "    <li><b>Weather</b> (about the weather condition each hour per site from 01/01/2016 to 12/31/ 2017, it has 8 variables): \n",
        "        <ul>\n",
        "            <li><i>site_id</i> : Foreign key for the Building file\n",
        "            <li><i>air_temperature</i> : Degrees Celsius\n",
        "            <li><i>cloud_coverage</i> : Portion of the sky covered in clouds, in oktas\n",
        "            <li><i>dew_temperature</i> : Degrees Celsius\n",
        "            <li><i>precip_depth_1_hr</i> : Millimeters\n",
        "            <li><i>sea_level_pressure</i> : Millibar/hectopascals\n",
        "            <li><i>wind_direction</i> : Compass direction (0-360)\n",
        "            <li><i>wind_speed</i> : Meters per second\n",
        "            <li><i>timestamp</i> : When the measurement was taken\n",
        "        </ul>\n",
        "</ul>\n",
        "        \n",
        "\n",
        "</b>.\n",
        "\n",
        "The dataset test will be released at <b>4pm on Thursday, October 27</b>.\n"
      ]
    },
    {
      "cell_type": "markdown",
      "source": [
        "## Import Libraries"
      ],
      "metadata": {
        "id": "e4y4kHHRGAP5"
      },
      "id": "e4y4kHHRGAP5"
    },
    {
      "cell_type": "code",
      "source": [
        "import seaborn as sns\n",
        "import random\n",
        "import datetime\n",
        "import os,gc,math\n",
        "import numpy as np \n",
        "import pandas as pd\n",
        "import seaborn as sns\n",
        "import lightgbm as lgb\n",
        "import matplotlib.pyplot as plt\n",
        "from sklearn.model_selection import KFold\n",
        "from sklearn.preprocessing import LabelEncoder\n",
        "\n",
        "get_ipython().run_line_magic('matplotlib', 'inline')\n",
        "from tqdm import tqdm\n",
        "from sklearn.metrics import mean_absolute_percentage_error\n",
        "from sklearn import ensemble\n",
        "from sklearn.model_selection import train_test_split,cross_val_score\n",
        "from sklearn.preprocessing import OneHotEncoder\n",
        "import time\n",
        "from sklearn.model_selection import train_test_split\n",
        "from matplotlib import pyplot as plt\n",
        "from keras.models import Sequential\n",
        "from keras.layers import Dropout\n",
        "from keras.layers import Dense, Activation\n",
        "from keras.utils.np_utils import to_categorical\n",
        "from sklearn.preprocessing import StandardScaler \n"
      ],
      "metadata": {
        "id": "-FQzF5-Dkfk3"
      },
      "id": "-FQzF5-Dkfk3",
      "execution_count": null,
      "outputs": []
    },
    {
      "cell_type": "markdown",
      "source": [
        "## Load Data"
      ],
      "metadata": {
        "id": "rYN545gpvto5"
      },
      "id": "rYN545gpvto5"
    },
    {
      "cell_type": "code",
      "source": [
        "from google.colab import drive\n",
        "drive.mount('/content/drive/')"
      ],
      "metadata": {
        "colab": {
          "base_uri": "https://localhost:8080/"
        },
        "id": "YtsFkJXIxBLz",
        "outputId": "95f0f882-6f04-4868-a172-475f81f17eca"
      },
      "id": "YtsFkJXIxBLz",
      "execution_count": null,
      "outputs": [
        {
          "output_type": "stream",
          "name": "stdout",
          "text": [
            "Drive already mounted at /content/drive/; to attempt to forcibly remount, call drive.mount(\"/content/drive/\", force_remount=True).\n"
          ]
        }
      ]
    },
    {
      "cell_type": "code",
      "source": [
        "import os\n",
        "path = \"/content/drive/My Drive/Data Challenge Mines Paris/Data Challenge Mines Paris\" "
      ],
      "metadata": {
        "id": "NjE9M113BJjT"
      },
      "id": "NjE9M113BJjT",
      "execution_count": null,
      "outputs": []
    },
    {
      "cell_type": "code",
      "source": [
        "FILES_FOLDER = {\n",
        "    \"data_for_data_challenge\": [\n",
        "        \"data_for_data_challenge/building_data.feather\",\n",
        "        \"data_for_data_challenge/meter_data.feather\",\n",
        "        \"data_for_data_challenge/weather_data.feather\",\n",
        "        \"data_for_data_challenge/X_test_data.feather\", # The dataset test will be released one hour before the end of the Data Challenge\n",
        "    ]\n",
        "}"
      ],
      "metadata": {
        "id": "3EM23DuevnTO"
      },
      "id": "3EM23DuevnTO",
      "execution_count": null,
      "outputs": []
    },
    {
      "cell_type": "code",
      "source": [
        "def load_data(folder, data_dir, dict_files=FILES_FOLDER):\n",
        "    files = dict_files[folder]\n",
        "    dataframes = []\n",
        "    print(\":: Start loading data\")\n",
        "    for name_file in tqdm(files):\n",
        "        #print(name_file)\n",
        "        dataframe = pd.read_feather(os.path.join(data_dir, name_file))\n",
        "        dataframes.append(dataframe)\n",
        "    return dataframes\n",
        "\n",
        "#X_test\n",
        "building, meters, weather, test = load_data(\"data_for_data_challenge\", path)"
      ],
      "metadata": {
        "colab": {
          "base_uri": "https://localhost:8080/"
        },
        "id": "k8vaE7Nfvs9A",
        "outputId": "ad42fb01-58d7-4b61-8aa8-9625e9d63770"
      },
      "id": "k8vaE7Nfvs9A",
      "execution_count": null,
      "outputs": [
        {
          "output_type": "stream",
          "name": "stdout",
          "text": [
            ":: Start loading data\n"
          ]
        },
        {
          "output_type": "stream",
          "name": "stderr",
          "text": [
            "100%|██████████| 4/4 [00:00<00:00, 28.31it/s]\n"
          ]
        }
      ]
    },
    {
      "cell_type": "code",
      "source": [
        "df = pd.merge(pd.merge(meters,building,how='left',on='building_id'),weather,on=['site_id','timestamp'],how='left')\n",
        "df.columns"
      ],
      "metadata": {
        "colab": {
          "base_uri": "https://localhost:8080/"
        },
        "id": "0tJPoWbZma3x",
        "outputId": "86dd3efa-cb34-4129-a92c-e9d01a04745b"
      },
      "id": "0tJPoWbZma3x",
      "execution_count": null,
      "outputs": [
        {
          "output_type": "execute_result",
          "data": {
            "text/plain": [
              "Index(['index_x', 'building_id', 'timestamp', 'meter', 'meter_reading',\n",
              "       'index_y', 'site_id', 'primary_use', 'sub_primary_use', 'square_feet',\n",
              "       'lat', 'lng', 'year_built', 'index', 'air_temperature',\n",
              "       'cloud_coverage', 'dew_temperature', 'precip_depth_1_hr',\n",
              "       'sea_level_pressure', 'wind_direction', 'wind_speed'],\n",
              "      dtype='object')"
            ]
          },
          "metadata": {},
          "execution_count": 238
        }
      ]
    },
    {
      "cell_type": "code",
      "source": [
        "df = df[df['building_id']!=1099]"
      ],
      "metadata": {
        "id": "QldBgUeenkZ-"
      },
      "id": "QldBgUeenkZ-",
      "execution_count": null,
      "outputs": []
    },
    {
      "cell_type": "code",
      "source": [
        "def time(weather_df):\n",
        "    hours_list = []\n",
        "    time_format = \"%Y-%m-%d %H:%M:%S\"\n",
        "    start_date = datetime.datetime.strptime(str(weather_df['timestamp'].min()),time_format)\n",
        "    end_date = datetime.datetime.strptime(str(weather_df['timestamp'].max()),time_format)\n",
        "    total_hours = int(((end_date - start_date).total_seconds()) / 3600) + 1\n",
        "    for i in range(0,total_hours):\n",
        "        hours_list.append((end_date - datetime.timedelta(hours=i)).strftime(time_format))\n",
        "    \n",
        "    missing_hours = []\n",
        "    for site_id in range(16):\n",
        "        site_hours = np.array(weather_df[weather_df['site_id'] == site_id]['timestamp'])\n",
        "        new_rows = pd.DataFrame(np.setdiff1d(pd.to_datetime(hours_list),site_hours),columns=['timestamp'])\n",
        "        new_rows['site_id'] = site_id\n",
        "        weather_df = pd.concat([weather_df,new_rows])\n",
        "        weather_df = weather_df.reset_index(drop=True) \n",
        "    return weather_df\n",
        "df = time(df)"
      ],
      "metadata": {
        "id": "r7ELvxmQoXZ5"
      },
      "id": "r7ELvxmQoXZ5",
      "execution_count": null,
      "outputs": []
    },
    {
      "cell_type": "code",
      "source": [
        "def fill_weather_dataset(weather_df):\n",
        "    weather_df[\"datetime\"] = pd.to_datetime(weather_df[\"timestamp\"])\n",
        "    weather_df[\"day\"] = weather_df[\"datetime\"].dt.day\n",
        "    weather_df[\"week\"] = weather_df[\"datetime\"].dt.week\n",
        "    weather_df[\"month\"] = weather_df[\"datetime\"].dt.month\n",
        "    \n",
        "    weather_df = weather_df.set_index(['site_id','day','month'])\n",
        "    \n",
        "    air_temperature_filler = pd.DataFrame(weather_df.groupby(['site_id','day','month'])['air_temperature'].mean(),columns=[\"air_temperature\"])\n",
        "    weather_df.update(air_temperature_filler,overwrite=False)\n",
        "\n",
        "    cloud_coverage_filler = weather_df.groupby(['site_id','day','month'])['cloud_coverage'].mean()\n",
        "    cloud_coverage_filler = pd.DataFrame(cloud_coverage_filler.fillna(method='ffill'),columns=[\"cloud_coverage\"])\n",
        "    weather_df.update(cloud_coverage_filler,overwrite=False)\n",
        "    \n",
        "    due_temperature_filler = pd.DataFrame(weather_df.groupby(['site_id','day','month'])['dew_temperature'].mean(),columns=[\"dew_temperature\"])\n",
        "    weather_df.update(due_temperature_filler,overwrite=False)\n",
        "\n",
        "    sea_level_filler = weather_df.groupby(['site_id','day','month'])['sea_level_pressure'].mean()\n",
        "    sea_level_filler = pd.DataFrame(sea_level_filler.fillna(method='ffill'),columns=['sea_level_pressure'])\n",
        "    weather_df.update(sea_level_filler,overwrite=False)\n",
        "    \n",
        "    wind_direction_filler =  pd.DataFrame(weather_df.groupby(['site_id','day','month'])['wind_direction'].mean(),columns=['wind_direction'])\n",
        "    weather_df.update(wind_direction_filler,overwrite=False)\n",
        "    \n",
        "    wind_speed_filler =  pd.DataFrame(weather_df.groupby(['site_id','day','month'])['wind_speed'].mean(),columns=['wind_speed'])\n",
        "    weather_df.update(wind_speed_filler,overwrite=False)\n",
        "\n",
        "    precip_depth_filler = weather_df.groupby(['site_id','day','month'])['precip_depth_1_hr'].mean()\n",
        "    precip_depth_filler = pd.DataFrame(precip_depth_filler.fillna(method='ffill'),columns=['precip_depth_1_hr'])\n",
        "    weather_df.update(precip_depth_filler,overwrite=False)\n",
        "    \n",
        "    weather_df = weather_df.reset_index()\n",
        "    weather_df = weather_df.drop(['datetime','day','week','month', 'index'],axis=1)\n",
        "        \n",
        "    return weather_df\n",
        "\n",
        "df = fill_weather_dataset(df)"
      ],
      "metadata": {
        "id": "NRwF2fYVqew4"
      },
      "id": "NRwF2fYVqew4",
      "execution_count": null,
      "outputs": []
    },
    {
      "cell_type": "markdown",
      "source": [
        "## Clean Building"
      ],
      "metadata": {
        "id": "TiC_4pVzd_NJ"
      },
      "id": "TiC_4pVzd_NJ"
    },
    {
      "cell_type": "code",
      "source": [
        "encoder=OneHotEncoder(sparse=False, handle_unknown='ignore')\n",
        "\n",
        "train_X_encoded = pd.DataFrame (encoder.fit_transform(df[['primary_use']]))\n",
        "train_X_encoded = train_X_encoded.astype('int')\n",
        "train_X_encoded.columns = encoder.get_feature_names(['primary_use'])\n",
        "\n",
        "df= pd.concat([df, train_X_encoded ], axis=1)"
      ],
      "metadata": {
        "colab": {
          "base_uri": "https://localhost:8080/"
        },
        "id": "NlkpDugcleQX",
        "outputId": "57290095-bc15-49fc-aece-d094478f577e"
      },
      "id": "NlkpDugcleQX",
      "execution_count": null,
      "outputs": [
        {
          "output_type": "stream",
          "name": "stderr",
          "text": [
            "/usr/local/lib/python3.7/dist-packages/sklearn/utils/deprecation.py:87: FutureWarning: Function get_feature_names is deprecated; get_feature_names is deprecated in 1.0 and will be removed in 1.2. Please use get_feature_names_out instead.\n",
            "  warnings.warn(msg, category=FutureWarning)\n"
          ]
        }
      ]
    },
    {
      "cell_type": "code",
      "source": [
        "df['square_feet'] =  np.log1p(df['square_feet'])"
      ],
      "metadata": {
        "id": "YF52tevowGpo"
      },
      "id": "YF52tevowGpo",
      "execution_count": null,
      "outputs": []
    },
    {
      "cell_type": "code",
      "source": [
        "# Drop unimportant features\n",
        "df = df.drop(['lat','lng','primary_use','sub_primary_use', 'index_x', 'index_y'], axis=1)"
      ],
      "metadata": {
        "id": "tBg2eJGhpPHM"
      },
      "id": "tBg2eJGhpPHM",
      "execution_count": null,
      "outputs": []
    },
    {
      "cell_type": "markdown",
      "source": [
        "## Clean Meters (training data)"
      ],
      "metadata": {
        "id": "_6yVu2Dg4gZX"
      },
      "id": "_6yVu2Dg4gZX"
    },
    {
      "cell_type": "code",
      "source": [
        "#df['timestamp'] = df['timestamp'].astype('string')\n",
        "df[\"timestamp\"] = pd.to_datetime(df[\"timestamp\"],format=\"%Y-%m-%d %H:%M:%S\")\n",
        "df[\"hour\"] = df[\"timestamp\"].dt.hour\n",
        "df[\"weekend\"] = df[\"timestamp\"].dt.weekday\n",
        "holidays = [\"2016-01-01\", \"2016-01-18\", \"2016-02-15\", \"2016-05-30\", \"2016-07-04\",\n",
        "                    \"2016-09-05\", \"2016-10-10\", \"2016-11-11\", \"2016-11-24\", \"2016-12-26\",\n",
        "                    \"2017-01-02\", \"2017-01-16\", \"2017-02-20\", \"2017-05-29\", \"2017-07-04\",\n",
        "                    \"2017-09-04\", \"2017-10-09\", \"2017-11-10\", \"2017-11-23\", \"2017-12-25\",\n",
        "                    \"2018-01-01\", \"2018-01-15\", \"2018-02-19\", \"2018-05-28\", \"2018-07-04\",\n",
        "                    \"2018-09-03\", \"2018-10-08\", \"2018-11-12\", \"2018-11-22\", \"2018-12-25\",\n",
        "                    \"2019-01-01\"]\n",
        "df[\"is_holiday\"] = (df.timestamp.isin(holidays)).astype(int)\n",
        "df['timestamp'] = df['timestamp'].astype('string')"
      ],
      "metadata": {
        "id": "KgoXUB41Vk3E"
      },
      "id": "KgoXUB41Vk3E",
      "execution_count": null,
      "outputs": []
    },
    {
      "cell_type": "code",
      "source": [
        "encoder1=OneHotEncoder(sparse=False)\n",
        "\n",
        "train_X_encoded = pd.DataFrame (encoder1.fit_transform(df[['meter']]))\n",
        "train_X_encoded = train_X_encoded.astype('int')\n",
        "train_X_encoded.columns = encoder1.get_feature_names(['meter'])\n",
        "\n",
        "df= pd.concat([df, train_X_encoded ], axis=1)"
      ],
      "metadata": {
        "colab": {
          "base_uri": "https://localhost:8080/"
        },
        "id": "BfqyAZM62S7l",
        "outputId": "7b84cf1f-4813-4df3-9559-9cac618a624c"
      },
      "id": "BfqyAZM62S7l",
      "execution_count": null,
      "outputs": [
        {
          "output_type": "stream",
          "name": "stderr",
          "text": [
            "/usr/local/lib/python3.7/dist-packages/sklearn/utils/deprecation.py:87: FutureWarning: Function get_feature_names is deprecated; get_feature_names is deprecated in 1.0 and will be removed in 1.2. Please use get_feature_names_out instead.\n",
            "  warnings.warn(msg, category=FutureWarning)\n"
          ]
        }
      ]
    },
    {
      "cell_type": "code",
      "source": [
        "df = df[df['meter_reading']>15]\n",
        "drop = [\"timestamp\",\"sea_level_pressure\", \"wind_direction\", \"wind_speed\",\"year_built\", \"meter\"]\n",
        "df = df.drop(drop, axis=1)\n",
        "df = df.dropna()"
      ],
      "metadata": {
        "id": "abulpcw7YKao"
      },
      "id": "abulpcw7YKao",
      "execution_count": null,
      "outputs": []
    },
    {
      "cell_type": "code",
      "source": [
        "y = np.log1p(df[\"meter_reading\"])\n",
        "X = df.drop('meter_reading', axis = 1)"
      ],
      "metadata": {
        "id": "-WxlDUONdlhu"
      },
      "id": "-WxlDUONdlhu",
      "execution_count": null,
      "outputs": []
    },
    {
      "cell_type": "code",
      "source": [
        "from sklearn.preprocessing import StandardScaler\n",
        "scaler = StandardScaler()\n",
        "X = pd.DataFrame(scaler.fit_transform(X), columns = X.columns)"
      ],
      "metadata": {
        "id": "nlcPe4lccURk"
      },
      "id": "nlcPe4lccURk",
      "execution_count": null,
      "outputs": []
    },
    {
      "cell_type": "markdown",
      "source": [
        "## Train model"
      ],
      "metadata": {
        "id": "SRslgIBQ21Tf"
      },
      "id": "SRslgIBQ21Tf"
    },
    {
      "cell_type": "code",
      "source": [
        "import numpy as np\n",
        "\n",
        "def mape(y_true, y_pred): \n",
        "    y_true, y_pred = np.array(y_true), np.array(y_pred)\n",
        "    return np.mean(np.abs((y_true - y_pred) / (y_true))) * 100"
      ],
      "metadata": {
        "id": "1oTXxsRZgQK2"
      },
      "id": "1oTXxsRZgQK2",
      "execution_count": null,
      "outputs": []
    },
    {
      "cell_type": "code",
      "source": [
        "#X_train, X_test, y_train, y_test = train_test_split(X, y, test_size=0.25)\n",
        "\n",
        "model_lgb = lgb.LGBMRegressor(objective='regression', \n",
        "    boosting=  \"gbdt\",\n",
        "    num_leaves= 40,\n",
        "    feature_fraction= 0.85,\n",
        "    reg_lambda= 2,learning_rate=0.05, n_estimators=1000, verbose_eval=25)\n",
        "model_lgb.fit(X, y)\n",
        "#lgb_train_pred = np.expm1(model_lgb.predict(X_test))\n",
        "#np.mean(np.abs(np.expm1(y_test)- lgb_train_pred))"
      ],
      "metadata": {
        "colab": {
          "base_uri": "https://localhost:8080/"
        },
        "id": "S6_tp_UewySa",
        "outputId": "632f9e85-354b-496a-f021-9ce7cd7e89c4"
      },
      "id": "S6_tp_UewySa",
      "execution_count": null,
      "outputs": [
        {
          "output_type": "execute_result",
          "data": {
            "text/plain": [
              "LGBMRegressor(boosting='gbdt', feature_fraction=0.85, learning_rate=0.05,\n",
              "              n_estimators=1000, num_leaves=40, objective='regression',\n",
              "              reg_lambda=2, verbose_eval=25)"
            ]
          },
          "metadata": {},
          "execution_count": 168
        }
      ]
    },
    {
      "cell_type": "code",
      "source": [
        "#mape(np.expm1(y_test),lgb_train_pred)"
      ],
      "metadata": {
        "id": "MU7CsMql3mMW"
      },
      "id": "MU7CsMql3mMW",
      "execution_count": null,
      "outputs": []
    },
    {
      "cell_type": "code",
      "source": [
        "lgb.plot_importance(model_lgb)\n",
        "plt.show()"
      ],
      "metadata": {
        "id": "h1x9RqgwYzga",
        "colab": {
          "base_uri": "https://localhost:8080/",
          "height": 295
        },
        "outputId": "32423c12-1933-4506-fa73-3adc8e695e56"
      },
      "id": "h1x9RqgwYzga",
      "execution_count": null,
      "outputs": [
        {
          "output_type": "display_data",
          "data": {
            "text/plain": [
              "<Figure size 432x288 with 1 Axes>"
            ],
            "image/png": "[encoded data removed]"
          },
          "metadata": {
            "needs_background": "light"
          }
        }
      ]
    },
    {
      "cell_type": "markdown",
      "source": [
        "# test\n",
        "Done before one hour from the competition"
      ],
      "metadata": {
        "id": "Wu4MKq9LtRrB"
      },
      "id": "Wu4MKq9LtRrB"
    },
    {
      "cell_type": "code",
      "source": [
        "test1=test\n",
        "test_X_encoded = pd.DataFrame (encoder.transform(test[['primary_use']]))\n",
        "test_X_encoded = test_X_encoded.astype('int')\n",
        "test_X_encoded.columns = encoder.get_feature_names(['primary_use'])\n",
        "\n",
        "test= pd.concat([test, test_X_encoded ], axis=1)"
      ],
      "metadata": {
        "colab": {
          "base_uri": "https://localhost:8080/"
        },
        "id": "49EM5mHTtqGH",
        "outputId": "2522af9c-5ae9-44db-82f2-f66290f48a2d"
      },
      "id": "49EM5mHTtqGH",
      "execution_count": null,
      "outputs": [
        {
          "output_type": "stream",
          "name": "stderr",
          "text": [
            "/usr/local/lib/python3.7/dist-packages/sklearn/utils/deprecation.py:87: FutureWarning: Function get_feature_names is deprecated; get_feature_names is deprecated in 1.0 and will be removed in 1.2. Please use get_feature_names_out instead.\n",
            "  warnings.warn(msg, category=FutureWarning)\n"
          ]
        }
      ]
    },
    {
      "cell_type": "code",
      "source": [
        "test['square_feet'] =  np.log1p(test['square_feet'])\n",
        "test = test.drop(['lat','lng','primary_use','sub_primary_use'], axis=1)"
      ],
      "metadata": {
        "id": "c1Q8D2GBxduy"
      },
      "id": "c1Q8D2GBxduy",
      "execution_count": null,
      "outputs": []
    },
    {
      "cell_type": "code",
      "source": [
        "test[\"timestamp\"] = pd.to_datetime(test[\"timestamp\"],format=\"%Y-%m-%d %H:%M:%S\")\n",
        "test[\"hour\"] = test[\"timestamp\"].dt.hour\n",
        "test[\"weekend\"] = test[\"timestamp\"].dt.weekday\n",
        "holidays = [\"2016-01-01\", \"2016-01-18\", \"2016-02-15\", \"2016-05-30\", \"2016-07-04\",\n",
        "                    \"2016-09-05\", \"2016-10-10\", \"2016-11-11\", \"2016-11-24\", \"2016-12-26\",\n",
        "                    \"2017-01-02\", \"2017-01-16\", \"2017-02-20\", \"2017-05-29\", \"2017-07-04\",\n",
        "                    \"2017-09-04\", \"2017-10-09\", \"2017-11-10\", \"2017-11-23\", \"2017-12-25\",\n",
        "                    \"2018-01-01\", \"2018-01-15\", \"2018-02-19\", \"2018-05-28\", \"2018-07-04\",\n",
        "                    \"2018-09-03\", \"2018-10-08\", \"2018-11-12\", \"2018-11-22\", \"2018-12-25\",\n",
        "                    \"2019-01-01\"]\n",
        "test[\"is_holiday\"] = (test.timestamp.isin(holidays)).astype(int)\n",
        "test['timestamp'] = test['timestamp'].astype('string')"
      ],
      "metadata": {
        "id": "uz-H3NLzxdqX"
      },
      "id": "uz-H3NLzxdqX",
      "execution_count": null,
      "outputs": []
    },
    {
      "cell_type": "code",
      "source": [
        "test_X_encoded = pd.DataFrame (encoder1.transform(test[['meter']]))\n",
        "test_X_encoded = test_X_encoded.astype('int')\n",
        "test_X_encoded.columns = encoder1.get_feature_names(['meter'])\n",
        "\n",
        "test= pd.concat([test, test_X_encoded ], axis=1)\n",
        "\n",
        "test = fill_weather_dataset(test)"
      ],
      "metadata": {
        "colab": {
          "base_uri": "https://localhost:8080/"
        },
        "id": "Ppbq_BpGxyLM",
        "outputId": "e3504c68-e1cc-4ba7-a808-78fcb9419a95"
      },
      "id": "Ppbq_BpGxyLM",
      "execution_count": null,
      "outputs": [
        {
          "output_type": "stream",
          "name": "stderr",
          "text": [
            "/usr/local/lib/python3.7/dist-packages/sklearn/utils/deprecation.py:87: FutureWarning: Function get_feature_names is deprecated; get_feature_names is deprecated in 1.0 and will be removed in 1.2. Please use get_feature_names_out instead.\n",
            "  warnings.warn(msg, category=FutureWarning)\n"
          ]
        }
      ]
    },
    {
      "cell_type": "code",
      "source": [
        "drop = [\"timestamp\",\"sea_level_pressure\", \"wind_direction\", \"wind_speed\",\"year_built\", \"meter\"]\n",
        "test = test.drop(drop, axis=1)\n",
        "test = test[X.columns]\n",
        "test = pd.DataFrame(scaler.transform(test), columns = test.columns)"
      ],
      "metadata": {
        "id": "Ccx8TtY1xyI1"
      },
      "id": "Ccx8TtY1xyI1",
      "execution_count": null,
      "outputs": []
    },
    {
      "cell_type": "code",
      "source": [
        "predictions = np.expm1(model_lgb.predict(test))"
      ],
      "metadata": {
        "id": "yeKF0k9xxdnw"
      },
      "id": "yeKF0k9xxdnw",
      "execution_count": null,
      "outputs": []
    },
    {
      "cell_type": "code",
      "source": [
        "test1[\"meter_reading\"] = pd.DataFrame(predictions)\n",
        "test1 = test1[[\"site_id\", \"building_id\", \"timestamp\", \"meter_reading\"]]\n",
        "test1.to_csv(\"PJJG.csv\", index=False)"
      ],
      "metadata": {
        "id": "_3TozZFM4shy"
      },
      "id": "_3TozZFM4shy",
      "execution_count": null,
      "outputs": []
    },
    {
      "cell_type": "code",
      "source": [
        "!cp PJJG.csv \"drive/My Drive/\""
      ],
      "metadata": {
        "id": "1ofKzqBT8YjG"
      },
      "id": "1ofKzqBT8YjG",
      "execution_count": null,
      "outputs": []
    },
    {
      "cell_type": "code",
      "source": [],
      "metadata": {
        "id": "k3eMH_fw64IG"
      },
      "id": "k3eMH_fw64IG",
      "execution_count": null,
      "outputs": []
    }
  ],
  "metadata": {
    "celltoolbar": "Aucun(e)",
    "colab": {
      "provenance": [],
      "toc_visible": true
    },
    "kernelspec": {
      "display_name": "Python 3 (ipykernel)",
      "language": "python",
      "name": "python3"
    },
    "language_info": {
      "codemirror_mode": {
        "name": "ipython",
        "version": 3
      },
      "file_extension": ".py",
      "mimetype": "text/x-python",
      "name": "python",
      "nbconvert_exporter": "python",
      "pygments_lexer": "ipython3",
      "version": "3.10.6"
    },
    "accelerator": "GPU"
  },
  "nbformat": 4,
  "nbformat_minor": 5
}